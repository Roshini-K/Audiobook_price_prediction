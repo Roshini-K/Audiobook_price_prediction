{
  "nbformat": 4,
  "nbformat_minor": 0,
  "metadata": {
    "colab": {
      "provenance": []
    },
    "kernelspec": {
      "name": "python3",
      "display_name": "Python 3"
    },
    "language_info": {
      "name": "python"
    }
  },
  "cells": [
    {
      "cell_type": "code",
      "execution_count": 1,
      "metadata": {
        "id": "OQ64UShLg7Lc",
        "colab": {
          "base_uri": "https://localhost:8080/"
        },
        "outputId": "2e8481b6-d577-4000-862f-a0dddad85e15"
      },
      "outputs": [
        {
          "output_type": "stream",
          "name": "stdout",
          "text": [
            "Collecting pyngrok\n",
            "  Downloading pyngrok-7.1.6-py3-none-any.whl (22 kB)\n",
            "Requirement already satisfied: PyYAML>=5.1 in /usr/local/lib/python3.10/dist-packages (from pyngrok) (6.0.1)\n",
            "Installing collected packages: pyngrok\n",
            "Successfully installed pyngrok-7.1.6\n"
          ]
        }
      ],
      "source": [
        "!pip install pyngrok\n"
      ]
    },
    {
      "cell_type": "code",
      "source": [
        "from pyngrok import ngrok, conf\n",
        "\n",
        "\n",
        "conf.get_default().auth_token = '2fswxRRYlSMZnWgYzS3SOXi44N2_4pJ1SiQ6LPWrt3zoqyrTF'\n",
        "\n",
        "\n",
        "public_url = ngrok.connect(5000).public_url\n",
        "print(f\" * ngrok tunnel \\\"{public_url}\\\" -> \\\"http://127.0.0.1:5000\\\"\")"
      ],
      "metadata": {
        "colab": {
          "base_uri": "https://localhost:8080/"
        },
        "id": "9bo6pIQk40AS",
        "outputId": "9fd74529-0f9f-40a6-e7f5-6fe954796bb7"
      },
      "execution_count": 2,
      "outputs": [
        {
          "output_type": "stream",
          "name": "stdout",
          "text": [
            " * ngrok tunnel \"https://9cf3-34-106-45-59.ngrok-free.app\" -> \"http://127.0.0.1:5000\"\n"
          ]
        }
      ]
    },
    {
      "cell_type": "markdown",
      "source": [
        "**Cleaning and training**"
      ],
      "metadata": {
        "id": "LvlaWL6moGRZ"
      }
    },
    {
      "cell_type": "code",
      "source": [
        "import pandas as pd\n",
        "import numpy as np\n",
        "import datetime\n",
        "import matplotlib.pyplot as plt\n",
        "import matplotlib.font_manager as fm\n",
        "import seaborn as sns\n",
        "import matplotlib\n",
        "import plotly.express as px\n",
        "\n",
        "def data_clean(data1):\n",
        "  matplotlib.rcParams['font.sans-serif'] = ['Simsun']\n",
        "  matplotlib.rcParams['font.family'] ='sans-serif'\n",
        "\n",
        "  matplotlib.rcParams['axes.unicode_minus'] = False\n",
        "\n",
        "\n",
        "  author_names = data1['author'].str.split(pat=':').str[1]\n",
        "  all_authors= author_names.str.split(pat=',')#maximum authors = 3\n",
        "\n",
        "  data1['author'] = all_authors.str[0]\n",
        "  data1['author1'] = all_authors.str[1]\n",
        "  data1['author2'] = all_authors.str[2]\n",
        "\n",
        "\n",
        "  narrator_names = data1['narrator'].str.split(pat=':').str[1]\n",
        "  all_narrators= narrator_names.str.split(pat=',')#narrators = 3\n",
        "\n",
        "  data1['narrator'] = all_narrators.str[0]\n",
        "  data1['narrator1'] = all_narrators.str[1]\n",
        "  data1['narrator2'] = all_narrators.str[2]\n",
        "\n",
        "\n",
        "\n",
        "\n",
        "  data1['author'] =  data1['author'].str.split(r\"(?<!^)(?=[A-Z])\").str.join(' ')\n",
        "\n",
        "  data1['author1'] =  data1['author1'].str.split(r\"(?<!^)(?=[A-Z])\").str.join(' ')\n",
        "  data1['author2'] =  data1['author2'].str.split(r\"(?<!^)(?=[A-Z])\").str.join(' ')\n",
        "  data1['narrator'] =  data1['narrator'].str.split(r\"(?<!^)(?=[A-Z])\").str.join(' ')\n",
        "  data1['narrator1'] =  data1['narrator1'].str.split(r\"(?<!^)(?=[A-Z])\").str.join(' ')\n",
        "  data1['narrator2'] =  data1['narrator2'].str.split(r\"(?<!^)(?=[A-Z])\").str.join(' ')\n",
        "\n",
        "  data1['rating'] = data1['stars'].str.split(' ').str[0]\n",
        "  data1['no.of.reviews'] = data1['stars'].str.split(' ').str[4].str[5:]\n",
        "\n",
        "  data1['releasedate'] = list(map(lambda x:pd.to_datetime(x, format = '%d-%m-%y'),data1['releasedate']))\n",
        "\n",
        "  def hr_to_mins(t):\n",
        "      t = t.split(' ')\n",
        "      if t[0] == 'Less':\n",
        "          return 1\n",
        "      mins_t = int(t[0])*60 if t[1] == 'hrs' or t[1] == 'hr' else int(t[0])\n",
        "      mins_t = mins_t + int(t[3]) if len(t) == 5 else mins_t\n",
        "      return mins_t\n",
        "\n",
        "  data1['time'] = list(map(lambda x:hr_to_mins(x),data1['time']))\n",
        "\n",
        "  data1['rating'] = list(map(lambda x: 0 if x == 'Not' else x,data1['rating']))\n",
        "\n",
        "  data1['rating'] = data1['rating'].astype('float')\n",
        "  data1['no.of.reviews']= data1['no.of.reviews'].str.replace(pat = ',', repl = '')\n",
        "  data1['no.of.reviews'] = data1['no.of.reviews'].astype('float')\n",
        "\n",
        "\n",
        "\n",
        "  data1['language'] = data1['language'].str.title()\n",
        "\n",
        "\n",
        "  cols = data1.columns.tolist()\n",
        "  cols = ['name','author','author1','author2','narrator','narrator1','narrator2','language','time','price','releasedate','rating','no.of.reviews','stars']\n",
        "  data1 = data1[cols]\n",
        "\n",
        "  data1.rename(columns={'no.of.reviews':'no.of.ratings'}, inplace=True)\n",
        "  data1.drop(columns=['stars'])\n",
        "\n",
        "  data1.dtypes\n",
        "  data1['price'] = data1['price'].str.replace(pat = 'free', repl = '0', case = False)\n",
        "\n",
        "  data1['price']= data1['price'].str.replace(pat = ',', repl = '', regex=True)\n",
        "\n",
        "  data1['price'] = data1['price'].astype(float)\n",
        "\n",
        "\n",
        "\n",
        "  z_scores = np.abs((data1['price'] - data1['price'].mean()) / data1['price'].std())\n",
        "  threshold = 3\n",
        "  data1 = data1[z_scores <= threshold]\n",
        "\n",
        "\n",
        "  z_scores = np.abs((data1['time'] - data1['time'].mean()) / data1['time'].std())\n",
        "  threshold = 3\n",
        "  data1 = data1[z_scores <= threshold]\n",
        "\n",
        "  z_scores = np.abs((data1['no.of.ratings'] - data1['no.of.ratings'].mean()) / data1['no.of.ratings'].std())\n",
        "  threshold = 3\n",
        "  data1 = data1[z_scores <= threshold]\n",
        "\n",
        "  data1['releasedate'] = pd.to_datetime(data1['releasedate']).dt.year\n",
        "  return data1"
      ],
      "metadata": {
        "id": "zVQZO-WbAncl"
      },
      "execution_count": 3,
      "outputs": []
    },
    {
      "cell_type": "code",
      "source": [
        "import pandas as pd\n",
        "from sklearn.model_selection import train_test_split\n",
        "from sklearn.preprocessing import StandardScaler, LabelEncoder\n",
        "from sklearn.linear_model import LinearRegression, BayesianRidge\n",
        "from sklearn.tree import DecisionTreeRegressor\n",
        "from sklearn.ensemble import RandomForestRegressor, GradientBoostingRegressor,BaggingRegressor\n",
        "\n",
        "\n",
        "import pickle\n",
        "\n",
        "def data_model(data1):\n",
        "\n",
        "  data1 = data_clean(data1)\n",
        "  features = ['author','narrator','time']\n",
        "  target = 'price'\n",
        "\n",
        "\n",
        "  author_encoder = LabelEncoder()\n",
        "  narrator_encoder = LabelEncoder()\n",
        "\n",
        "  data1['author'] = author_encoder.fit_transform(data1['author'])\n",
        "  data1['narrator'] = narrator_encoder.fit_transform(data1['narrator'])\n",
        "\n",
        "  X = data1[features]\n",
        "  y = data1[target]\n",
        "\n",
        "\n",
        "\n",
        "\n",
        "  X_train, X_test, y_train, y_test = train_test_split(X, y, test_size=0.2, random_state=42)\n",
        "\n",
        "\n",
        "  scaler = StandardScaler()\n",
        "  X_train = scaler.fit_transform(X_train)\n",
        "  X_test = scaler.transform(X_test)\n",
        "\n",
        "\n",
        "  model = RandomForestRegressor()\n",
        "  model.fit(\n",
        "      X_train,\n",
        "      y_train\n",
        "  )\n",
        "  y_pred = model.predict(X_test)\n",
        "\n",
        "\n",
        "  with open('model.pkl', 'wb') as f:\n",
        "      pickle.dump(model, f)\n",
        "\n",
        "  with open('author_encoder.pkl', 'wb') as f:\n",
        "      pickle.dump(author_encoder, f)\n",
        "\n",
        "  with open('narrator_encoder.pkl', 'wb') as f:\n",
        "      pickle.dump(narrator_encoder, f)\n",
        "\n",
        "  return model,author_encoder,narrator_encoder\n",
        "\n",
        "data1 = pd.read_csv('audible_uncleaned.csv')\n",
        "data_model(data1)\n"
      ],
      "metadata": {
        "colab": {
          "base_uri": "https://localhost:8080/"
        },
        "id": "13vXEtdrUuTc",
        "outputId": "a1c78c54-8b7c-4ffe-ff96-f965cdccac99"
      },
      "execution_count": 4,
      "outputs": [
        {
          "output_type": "execute_result",
          "data": {
            "text/plain": [
              "(RandomForestRegressor(), LabelEncoder(), LabelEncoder())"
            ]
          },
          "metadata": {},
          "execution_count": 4
        }
      ]
    },
    {
      "cell_type": "code",
      "source": [
        "!pip install flask flask-ngrok\n"
      ],
      "metadata": {
        "colab": {
          "base_uri": "https://localhost:8080/"
        },
        "id": "EdQD8xNeG0OS",
        "outputId": "1cee727a-06fa-4d3c-e88d-360079fd1ec6"
      },
      "execution_count": 5,
      "outputs": [
        {
          "output_type": "stream",
          "name": "stdout",
          "text": [
            "Requirement already satisfied: flask in /usr/local/lib/python3.10/dist-packages (2.2.5)\n",
            "Collecting flask-ngrok\n",
            "  Downloading flask_ngrok-0.0.25-py3-none-any.whl (3.1 kB)\n",
            "Requirement already satisfied: Werkzeug>=2.2.2 in /usr/local/lib/python3.10/dist-packages (from flask) (3.0.2)\n",
            "Requirement already satisfied: Jinja2>=3.0 in /usr/local/lib/python3.10/dist-packages (from flask) (3.1.3)\n",
            "Requirement already satisfied: itsdangerous>=2.0 in /usr/local/lib/python3.10/dist-packages (from flask) (2.2.0)\n",
            "Requirement already satisfied: click>=8.0 in /usr/local/lib/python3.10/dist-packages (from flask) (8.1.7)\n",
            "Requirement already satisfied: requests in /usr/local/lib/python3.10/dist-packages (from flask-ngrok) (2.31.0)\n",
            "Requirement already satisfied: MarkupSafe>=2.0 in /usr/local/lib/python3.10/dist-packages (from Jinja2>=3.0->flask) (2.1.5)\n",
            "Requirement already satisfied: charset-normalizer<4,>=2 in /usr/local/lib/python3.10/dist-packages (from requests->flask-ngrok) (3.3.2)\n",
            "Requirement already satisfied: idna<4,>=2.5 in /usr/local/lib/python3.10/dist-packages (from requests->flask-ngrok) (3.7)\n",
            "Requirement already satisfied: urllib3<3,>=1.21.1 in /usr/local/lib/python3.10/dist-packages (from requests->flask-ngrok) (2.0.7)\n",
            "Requirement already satisfied: certifi>=2017.4.17 in /usr/local/lib/python3.10/dist-packages (from requests->flask-ngrok) (2024.2.2)\n",
            "Installing collected packages: flask-ngrok\n",
            "Successfully installed flask-ngrok-0.0.25\n"
          ]
        }
      ]
    },
    {
      "cell_type": "code",
      "source": [
        "from flask import Flask, request, render_template_string\n",
        "from pyngrok import ngrok\n",
        "import pickle\n",
        "import os\n",
        "\n",
        "app = Flask(__name__)\n",
        "UPLOAD_FOLDER = '/tmp'\n",
        "app.config['UPLOAD_FOLDER'] = UPLOAD_FOLDER\n",
        "\n",
        "\n",
        "\n",
        "def load_encoders_and_model():\n",
        "    if os.path.exists('model.pkl'):\n",
        "        with open('model.pkl', 'rb') as f:\n",
        "            model = pickle.load(f)\n",
        "        with open('author_encoder.pkl', 'rb') as f:\n",
        "            author_encoder = pickle.load(f)\n",
        "        with open('narrator_encoder.pkl', 'rb') as f:\n",
        "            narrator_encoder = pickle.load(f)\n",
        "    else:\n",
        "        model, author_encoder, narrator_encoder = None, None, None\n",
        "    return model, author_encoder, narrator_encoder\n",
        "\n",
        "model, author_encoder, narrator_encoder = load_encoders_and_model()\n",
        "\n",
        "template = '''\n",
        "<!doctype html>\n",
        "<html lang=\"en\">\n",
        "<head>\n",
        "    <meta charset=\"utf-8\">\n",
        "    <meta name=\"viewport\" content=\"width=device-width, initial-scale=1, shrink-to-fit=no\">\n",
        "    <title>Audio Book Price Predictor</title>\n",
        "    <link rel=\"stylesheet\" href=\"https://stackpath.bootstrapcdn.com/bootstrap/4.5.2/css/bootstrap.min.css\">\n",
        "    <style>\n",
        "        body {\n",
        "            background-color: #f5f5f5;\n",
        "            font-family: 'Helvetica Neue', sans-serif;\n",
        "            color: #333;\n",
        "        }\n",
        "        .container {\n",
        "            margin-top: 50px;\n",
        "        }\n",
        "        .card {\n",
        "            border: none;\n",
        "            box-shadow: 0 2px 4px rgba(0, 0, 0, 0.1);\n",
        "        }\n",
        "        .card-header, .btn {\n",
        "            background-color: #333;\n",
        "            color: white;\n",
        "        }\n",
        "        .result, .error, .success {\n",
        "            margin-top: 20px;\n",
        "            font-weight: bold;\n",
        "        }'\n",
        "        .result {\n",
        "            color: green;\n",
        "        }\n",
        "        .error {\n",
        "            color: red;\n",
        "        }\n",
        "        .success {\n",
        "            color: blue;\n",
        "        }\n",
        "    </style>\n",
        "</head>\n",
        "<body>\n",
        "    <div class=\"container\">\n",
        "        <div class=\"card\">\n",
        "            <div class=\"card-header text-center\">\n",
        "                <h1>Audio Book Price Suggestion</h1>\n",
        "            </div>\n",
        "            <div class=\"card-body\">\n",
        "                <form method=\"post\" enctype=\"multipart/form-data\">\n",
        "                    <div class=\"form-group\">\n",
        "                        <label for=\"csv_file\">Upload CSV to Retrain Model</label>\n",
        "                        <input type=\"file\" class=\"form-control-file\" id=\"csv_file\" name=\"csv_file\" accept=\".csv\">\n",
        "                    </div>\n",
        "                    <button type=\"submit\" name=\"retrain\" class=\"btn btn-block\">Retrain Model</button>\n",
        "                </form>\n",
        "                <form method=\"post\">\n",
        "                    <div class=\"form-group\">\n",
        "                        <label for=\"author\">Author</label>\n",
        "                        <input type=\"text\" class=\"form-control\" id=\"author\" name=\"author\" required>\n",
        "                    </div>\n",
        "                    <div class=\"form-group\">\n",
        "                        <label for=\"narrator\">Narrator</label>\n",
        "                        <input type=\"text\" class=\"form-control\" id=\"narrator\" name=\"narrator\" required>\n",
        "                    </div>\n",
        "                    <div class=\"form-group\">\n",
        "                        <label for=\"duration\">Duration (mins)</label>\n",
        "                        <input type=\"number\" class=\"form-control\" id=\"duration\" name=\"duration\" step=\"0.1\" required>\n",
        "                    </div>\n",
        "                    <button type=\"submit\" name=\"predict\" class=\"btn btn-block\">Suggest</button>\n",
        "                </form>\n",
        "                {% if result %}\n",
        "                <div class=\"alert alert-info result\">\n",
        "                    <strong>Suggested Price:</strong> {{ result }}\n",
        "                </div>\n",
        "                {% endif %}\n",
        "                {% if success_message %}\n",
        "                <div class=\"alert alert-info success\">\n",
        "                    <strong>Success:</strong> {{ success_message }}\n",
        "                </div>\n",
        "                {% endif %}\n",
        "                {% if error_message %}\n",
        "                <div class=\"alert alert-danger error\">\n",
        "                    <strong>Error:</strong> {{ error_message }}\n",
        "                </div>\n",
        "                {% endif %}\n",
        "            </div>\n",
        "        </div>\n",
        "    </div>\n",
        "    <script src=\"https://code.jquery.com/jquery-3.5.1.slim.min.js\"></script>\n",
        "    <script src=\"https://cdn.jsdelivr.net/npm/bootstrap@4.5.2/dist/js/bootstrap.bundle.min.js\"></script>\n",
        "</body>\n",
        "</html>\n",
        "\n",
        "'''\n",
        "\n",
        "@app.route('/', methods=['GET', 'POST'])\n",
        "def index():\n",
        "    global model, author_encoder, narrator_encoder\n",
        "    result = None\n",
        "    error_message = None\n",
        "    success_message = None\n",
        "    if request.method == 'POST':\n",
        "        if 'predict' in request.form:\n",
        "            author = request.form.get('author')\n",
        "            narrator = request.form.get('narrator')\n",
        "            duration = float(request.form.get('duration'))\n",
        "            if model is None or author_encoder is None or narrator_encoder is None:\n",
        "                error_message = \"Model not trained yet. Please upload a CSV file to train the model.\"\n",
        "            else:\n",
        "                try:\n",
        "                    author_encoded = author_encoder.transform([author])[0]\n",
        "                    narrator_encoded = narrator_encoder.transform([narrator])[0]\n",
        "                    features = [[author_encoded, narrator_encoded, duration]]\n",
        "                    prediction = model.predict(features)\n",
        "                    result =f'{prediction[0]} rs'\n",
        "                except ValueError as e:\n",
        "                    error_message = f\"Invalid input: {e}\"\n",
        "        elif 'retrain' in request.form and 'csv_file' in request.files:\n",
        "            file = request.files.get('csv_file')\n",
        "            if file:\n",
        "                file.save(os.path.join(app.config['UPLOAD_FOLDER'], 'uploaded_file.csv'))\n",
        "                try:\n",
        "                    data = pd.read_csv(os.path.join(app.config['UPLOAD_FOLDER'], 'uploaded_file.csv'))\n",
        "                    model, author_encoder, narrator_encoder = data_model(data)\n",
        "                    success_message = \"Model retrained successfully.\"\n",
        "                except Exception as e:\n",
        "                    error_message = f\"Failed to retrain model: {e}\"\n",
        "\n",
        "    return render_template_string(template, result=result, error_message=error_message, success_message = success_message)\n",
        "\n",
        "\n",
        "port = 5000\n",
        "public_url = ngrok.connect(port)\n",
        "print(f\" * Ngrok URL: {public_url}\")\n",
        "app.run(port=port)\n"
      ],
      "metadata": {
        "colab": {
          "base_uri": "https://localhost:8080/"
        },
        "id": "aJC3zLB8y0st",
        "outputId": "0265d59a-0474-4bfe-84f3-b175d4d01195"
      },
      "execution_count": 6,
      "outputs": [
        {
          "metadata": {
            "tags": null
          },
          "name": "stdout",
          "output_type": "stream",
          "text": [
            " * Ngrok URL: NgrokTunnel: \"https://dda6-34-106-45-59.ngrok-free.app\" -> \"http://localhost:5000\"\n",
            " * Serving Flask app '__main__'\n",
            " * Debug mode: off\n"
          ]
        },
        {
          "metadata": {
            "tags": null
          },
          "name": "stderr",
          "output_type": "stream",
          "text": [
            "INFO:werkzeug:\u001b[31m\u001b[1mWARNING: This is a development server. Do not use it in a production deployment. Use a production WSGI server instead.\u001b[0m\n",
            " * Running on http://127.0.0.1:5000\n",
            "INFO:werkzeug:\u001b[33mPress CTRL+C to quit\u001b[0m\n",
            "INFO:werkzeug:127.0.0.1 - - [04/May/2024 01:01:17] \"GET / HTTP/1.1\" 200 -\n",
            "INFO:werkzeug:127.0.0.1 - - [04/May/2024 01:01:19] \"\u001b[33mGET /favicon.ico HTTP/1.1\u001b[0m\" 404 -\n",
            "INFO:werkzeug:127.0.0.1 - - [04/May/2024 01:01:34] \"POST / HTTP/1.1\" 200 -\n",
            "INFO:werkzeug:127.0.0.1 - - [04/May/2024 01:02:09] \"GET / HTTP/1.1\" 200 -\n",
            "INFO:werkzeug:127.0.0.1 - - [04/May/2024 01:07:58] \"\u001b[31m\u001b[1mPOST / HTTP/1.1\u001b[0m\" 400 -\n",
            "INFO:werkzeug:127.0.0.1 - - [04/May/2024 01:08:55] \"\u001b[31m\u001b[1mPOST / HTTP/1.1\u001b[0m\" 400 -\n",
            "INFO:werkzeug:127.0.0.1 - - [04/May/2024 01:08:55] \"GET / HTTP/1.1\" 200 -\n",
            "INFO:werkzeug:127.0.0.1 - - [04/May/2024 01:08:56] \"\u001b[31m\u001b[1mPOST / HTTP/1.1\u001b[0m\" 400 -\n",
            "INFO:werkzeug:127.0.0.1 - - [04/May/2024 01:09:08] \"POST / HTTP/1.1\" 200 -\n",
            "INFO:werkzeug:127.0.0.1 - - [04/May/2024 01:11:04] \"POST / HTTP/1.1\" 200 -\n"
          ]
        }
      ]
    }
  ]
}